{
 "cells": [
  {
   "cell_type": "code",
   "execution_count": 306,
   "metadata": {
    "collapsed": true
   },
   "outputs": [],
   "source": [
    "k = [ 0x428a2f98 ,0x71374491 ,0xb5c0fbcf ,0xe9b5dba5 ,0x3956c25b, 0x59f111f1, 0x923f82a4, 0xab1c5ed5, \n",
    "0xd807aa98 ,0x12835b01, 0x243185be, 0x550c7dc3, 0x72be5d74, 0x80deb1fe, 0x9bdc06a7 ,0xc19bf174, \n",
    "0xe49b69c1, 0xefbe4786, 0x0fc19dc6, 0x240ca1cc, 0x2de92c6f, 0x4a7484aa ,0x5cb0a9dc ,0x76f988da, \n",
    "0x983e5152 ,0xa831c66d ,0xb00327c8 ,0xbf597fc7, 0xc6e00bf3 ,0xd5a79147, 0x06ca6351 ,0x14292967, \n",
    "0x27b70a85 ,0x2e1b2138 ,0x4d2c6dfc ,0x53380d13 ,0x650a7354 ,0x766a0abb ,0x81c2c92e ,0x92722c85 ,\n",
    "0xa2bfe8a1 ,0xa81a664b, 0xc24b8b70 ,0xc76c51a3 ,0xd192e819 ,0xd6990624 ,0xf40e3585 ,0x106aa070 ,\n",
    "0x19a4c116 ,0x1e376c08 ,0x2748774c ,0x34b0bcb5 ,0x391c0cb3 ,0x4ed8aa4a ,0x5b9cca4f ,0x682e6ff3 ,\n",
    "0x748f82ee ,0x78a5636f ,0x84c87814 ,0x8cc70208 ,0x90befffa ,0xa4506ceb ,0xbef9a3f7, 0xc67178f2 ]"
   ]
  },
  {
   "cell_type": "code",
   "execution_count": 307,
   "metadata": {
    "collapsed": true
   },
   "outputs": [],
   "source": [
    "h_01 = 0x6a09e667"
   ]
  },
  {
   "cell_type": "code",
   "execution_count": 308,
   "metadata": {
    "collapsed": true
   },
   "outputs": [],
   "source": [
    "h_02 = 0xbb67ae85"
   ]
  },
  {
   "cell_type": "code",
   "execution_count": 309,
   "metadata": {
    "collapsed": true
   },
   "outputs": [],
   "source": [
    "h_03 = 0x3c6ef372"
   ]
  },
  {
   "cell_type": "code",
   "execution_count": 310,
   "metadata": {
    "collapsed": true
   },
   "outputs": [],
   "source": [
    "h_04 = 0xa54ff53a"
   ]
  },
  {
   "cell_type": "code",
   "execution_count": 311,
   "metadata": {
    "collapsed": true
   },
   "outputs": [],
   "source": [
    "h_05 = 0x510e527f"
   ]
  },
  {
   "cell_type": "code",
   "execution_count": 312,
   "metadata": {
    "collapsed": true
   },
   "outputs": [],
   "source": [
    "h_06 = 0x9b05688c"
   ]
  },
  {
   "cell_type": "code",
   "execution_count": 313,
   "metadata": {
    "collapsed": true
   },
   "outputs": [],
   "source": [
    "h_07 = 0x1f83d9ab"
   ]
  },
  {
   "cell_type": "code",
   "execution_count": 314,
   "metadata": {
    "collapsed": true
   },
   "outputs": [],
   "source": [
    "h_08 = 0x5be0cd19"
   ]
  },
  {
   "cell_type": "code",
   "execution_count": 315,
   "metadata": {},
   "outputs": [
    {
     "name": "stdout",
     "output_type": "stream",
     "text": [
      "Enter your message: abcdbcdecdefdefgefghfghighijhijkijkljklmklmnlmnomnopnopq\n"
     ]
    }
   ],
   "source": [
    "mes = ''.join(['0'+str(bin(ord(i)))[2:] for i in input('Enter your message: ')])"
   ]
  },
  {
   "cell_type": "code",
   "execution_count": 316,
   "metadata": {
    "collapsed": true
   },
   "outputs": [],
   "source": [
    "pad_mes = mes + '1'"
   ]
  },
  {
   "cell_type": "code",
   "execution_count": 317,
   "metadata": {},
   "outputs": [
    {
     "data": {
      "text/plain": [
       "'0110000101100010011000110110010001100010011000110110010001100101011000110110010001100101011001100110010001100101011001100110011101100101011001100110011101101000011001100110011101101000011010010110011101101000011010010110101001101000011010010110101001101011011010010110101001101011011011000110101001101011011011000110110101101011011011000110110101101110011011000110110101101110011011110110110101101110011011110111000001101110011011110111000001110001'"
      ]
     },
     "execution_count": 317,
     "metadata": {},
     "output_type": "execute_result"
    }
   ],
   "source": [
    "mes"
   ]
  },
  {
   "cell_type": "code",
   "execution_count": 318,
   "metadata": {
    "collapsed": true
   },
   "outputs": [],
   "source": [
    "zero = 512*((len(pad_mes)//512)+1) -64- (len(mes)+1)"
   ]
  },
  {
   "cell_type": "code",
   "execution_count": 325,
   "metadata": {
    "collapsed": true
   },
   "outputs": [],
   "source": [
    "for i in range (zero):\n",
    "    pad_mes = pad_mes + '0'"
   ]
  },
  {
   "cell_type": "code",
   "execution_count": 326,
   "metadata": {
    "collapsed": true
   },
   "outputs": [],
   "source": [
    "length = bin(len(mes))"
   ]
  },
  {
   "cell_type": "code",
   "execution_count": 327,
   "metadata": {},
   "outputs": [
    {
     "data": {
      "text/plain": [
       "'01100001011000100110001101100100011000100110001101100100011001010110001101100100011001010110011001100100011001010110011001100111011001010110011001100111011010000110011001100111011010000110100101100111011010000110100101101010011010000110100101101010011010110110100101101010011010110110110001101010011010110110110001101101011010110110110001101101011011100110110001101101011011100110111101101101011011100110111101110000011011100110111101110000011100011'"
      ]
     },
     "execution_count": 327,
     "metadata": {},
     "output_type": "execute_result"
    }
   ],
   "source": [
    "pad_mes"
   ]
  },
  {
   "cell_type": "code",
   "execution_count": 303,
   "metadata": {
    "collapsed": true
   },
   "outputs": [],
   "source": [
    "for i in range (64-len((length[2:]))):\n",
    "    pad_mes += '0'"
   ]
  },
  {
   "cell_type": "code",
   "execution_count": 304,
   "metadata": {
    "collapsed": true
   },
   "outputs": [],
   "source": [
    "pad_mes += length[2:]"
   ]
  },
  {
   "cell_type": "code",
   "execution_count": 305,
   "metadata": {},
   "outputs": [
    {
     "data": {
      "text/plain": [
       "513"
      ]
     },
     "execution_count": 305,
     "metadata": {},
     "output_type": "execute_result"
    }
   ],
   "source": [
    "len(pad_mes)"
   ]
  },
  {
   "cell_type": "code",
   "execution_count": 255,
   "metadata": {
    "collapsed": true
   },
   "outputs": [],
   "source": [
    "m =[]"
   ]
  },
  {
   "cell_type": "code",
   "execution_count": 256,
   "metadata": {},
   "outputs": [],
   "source": [
    "for i in range (len(mes)//32):\n",
    "    m.append(pad_mes[(32*i):(32*(i+1))])"
   ]
  },
  {
   "cell_type": "code",
   "execution_count": 257,
   "metadata": {
    "collapsed": true
   },
   "outputs": [],
   "source": [
    "for i in range(len(m)):\n",
    "    m[i] = int(m[i],2)"
   ]
  },
  {
   "cell_type": "code",
   "execution_count": 258,
   "metadata": {},
   "outputs": [
    {
     "data": {
      "text/plain": [
       "[1633837924,\n",
       " 1650680933,\n",
       " 1667523942,\n",
       " 1684366951,\n",
       " 1701209960,\n",
       " 1718052969,\n",
       " 1734895978,\n",
       " 1751738987,\n",
       " 1768581996,\n",
       " 1785425005,\n",
       " 1802268014,\n",
       " 1819111023,\n",
       " 1835954032,\n",
       " 1852797041]"
      ]
     },
     "execution_count": 258,
     "metadata": {},
     "output_type": "execute_result"
    }
   ],
   "source": [
    "m"
   ]
  },
  {
   "cell_type": "code",
   "execution_count": 259,
   "metadata": {
    "collapsed": true
   },
   "outputs": [],
   "source": [
    "def Ch (x,y,z):  #input x,y,z must be decimal form\n",
    "    return ((x&y)^((~x)&z))"
   ]
  },
  {
   "cell_type": "code",
   "execution_count": 260,
   "metadata": {
    "collapsed": true
   },
   "outputs": [],
   "source": [
    "def Maj (x,y,z):\n",
    "    return ((x&y)^(x&z)^(y&z))"
   ]
  },
  {
   "cell_type": "code",
   "execution_count": 261,
   "metadata": {
    "collapsed": true
   },
   "outputs": [],
   "source": [
    "def S(num, time):\n",
    "    store = str(bin(num))[2:]\n",
    "    for i in range (32-len(store)):\n",
    "        store = '0'+store\n",
    "    front = store[:len(store)-time]\n",
    "    back = store[len(store)-time:]\n",
    "    result = back + front\n",
    "    return (int(result,2))"
   ]
  },
  {
   "cell_type": "code",
   "execution_count": 262,
   "metadata": {
    "collapsed": true
   },
   "outputs": [],
   "source": [
    "def SIG_0 (x):\n",
    "    return ((S(x,2)^S(x,13)^S(x,22)))"
   ]
  },
  {
   "cell_type": "code",
   "execution_count": 263,
   "metadata": {
    "collapsed": true
   },
   "outputs": [],
   "source": [
    "def SIG_1(x):\n",
    "    return(S(x,6)^S(x,11)^S(x,25))"
   ]
  },
  {
   "cell_type": "code",
   "execution_count": 264,
   "metadata": {
    "collapsed": true
   },
   "outputs": [],
   "source": [
    "def sig_0(x):\n",
    "    return(S(x,7)^S(x,18)^(int(x)>>3))"
   ]
  },
  {
   "cell_type": "code",
   "execution_count": 265,
   "metadata": {
    "collapsed": true
   },
   "outputs": [],
   "source": [
    "def sig_1(x):\n",
    "    return (S(x,17)^S(x,19)^(x>>10))"
   ]
  },
  {
   "cell_type": "code",
   "execution_count": 266,
   "metadata": {
    "collapsed": true
   },
   "outputs": [],
   "source": [
    "w = []\n",
    "w[:64]=[0]*64"
   ]
  },
  {
   "cell_type": "code",
   "execution_count": 267,
   "metadata": {},
   "outputs": [
    {
     "name": "stdout",
     "output_type": "stream",
     "text": [
      "0x6a09e667\n",
      "0x5d6aebb1 0x6a09e667 0\n",
      "0x2f2d5fcf 0x5d6aebb1 1\n",
      "0x97651825 0x2f2d5fcf 2\n",
      "0x4a8d64d5 0x97651825 3\n",
      "0xf921c212 0x4a8d64d5 4\n",
      "0x55c8ef48 0xf921c212 5\n",
      "0x485835b7 0x55c8ef48 6\n",
      "0xd237e6db 0x485835b7 7\n",
      "0x359f2bce 0xd237e6db 8\n",
      "0x3a474b2b 0x359f2bce 9\n",
      "0xb8e2b4cb 0x3a474b2b 10\n",
      "0x1762215c 0xb8e2b4cb 11\n",
      "0x101a4861 0x1762215c 12\n",
      "0xd68e6457 0x101a4861 13\n"
     ]
    },
    {
     "ename": "IndexError",
     "evalue": "list index out of range",
     "output_type": "error",
     "traceback": [
      "\u001b[1;31m---------------------------------------------------------------------------\u001b[0m",
      "\u001b[1;31mIndexError\u001b[0m                                Traceback (most recent call last)",
      "\u001b[1;32m<ipython-input-267-8841d287d9f5>\u001b[0m in \u001b[0;36m<module>\u001b[1;34m()\u001b[0m\n\u001b[0;32m     11\u001b[0m \u001b[1;32mfor\u001b[0m \u001b[0mi\u001b[0m \u001b[1;32min\u001b[0m \u001b[0mrange\u001b[0m \u001b[1;33m(\u001b[0m\u001b[1;36m64\u001b[0m\u001b[1;33m)\u001b[0m\u001b[1;33m:\u001b[0m\u001b[1;33m\u001b[0m\u001b[0m\n\u001b[0;32m     12\u001b[0m     \u001b[1;32mif\u001b[0m \u001b[1;33m(\u001b[0m\u001b[0mi\u001b[0m\u001b[1;33m<=\u001b[0m\u001b[1;36m15\u001b[0m\u001b[1;33m)\u001b[0m\u001b[1;33m:\u001b[0m\u001b[1;33m\u001b[0m\u001b[0m\n\u001b[1;32m---> 13\u001b[1;33m         \u001b[0mw\u001b[0m\u001b[1;33m[\u001b[0m\u001b[0mi\u001b[0m\u001b[1;33m]\u001b[0m\u001b[1;33m=\u001b[0m\u001b[0mm\u001b[0m\u001b[1;33m[\u001b[0m\u001b[0mi\u001b[0m\u001b[1;33m]\u001b[0m\u001b[1;33m\u001b[0m\u001b[0m\n\u001b[0m\u001b[0;32m     14\u001b[0m         \u001b[0mt1\u001b[0m \u001b[1;33m=\u001b[0m \u001b[1;33m(\u001b[0m\u001b[0mH\u001b[0m \u001b[1;33m+\u001b[0m \u001b[0mSIG_1\u001b[0m\u001b[1;33m(\u001b[0m\u001b[0me\u001b[0m\u001b[1;33m)\u001b[0m\u001b[1;33m+\u001b[0m\u001b[0mCh\u001b[0m\u001b[1;33m(\u001b[0m\u001b[0me\u001b[0m\u001b[1;33m,\u001b[0m\u001b[0mf\u001b[0m\u001b[1;33m,\u001b[0m\u001b[0mg\u001b[0m\u001b[1;33m)\u001b[0m\u001b[1;33m+\u001b[0m\u001b[0mk\u001b[0m\u001b[1;33m[\u001b[0m\u001b[0mi\u001b[0m\u001b[1;33m]\u001b[0m\u001b[1;33m+\u001b[0m\u001b[0mw\u001b[0m\u001b[1;33m[\u001b[0m\u001b[0mi\u001b[0m\u001b[1;33m]\u001b[0m\u001b[1;33m)\u001b[0m\u001b[1;33m%\u001b[0m\u001b[1;33m(\u001b[0m\u001b[1;36m2\u001b[0m\u001b[1;33m**\u001b[0m\u001b[1;36m32\u001b[0m\u001b[1;33m)\u001b[0m\u001b[1;33m\u001b[0m\u001b[0m\n\u001b[0;32m     15\u001b[0m         \u001b[0mt2\u001b[0m \u001b[1;33m=\u001b[0m \u001b[1;33m(\u001b[0m\u001b[0mSIG_0\u001b[0m\u001b[1;33m(\u001b[0m\u001b[0ma\u001b[0m\u001b[1;33m)\u001b[0m\u001b[1;33m+\u001b[0m\u001b[0mMaj\u001b[0m\u001b[1;33m(\u001b[0m\u001b[0ma\u001b[0m\u001b[1;33m,\u001b[0m\u001b[0mb\u001b[0m\u001b[1;33m,\u001b[0m\u001b[0mc\u001b[0m\u001b[1;33m)\u001b[0m\u001b[1;33m)\u001b[0m\u001b[1;33m%\u001b[0m\u001b[1;33m(\u001b[0m\u001b[1;36m2\u001b[0m\u001b[1;33m**\u001b[0m\u001b[1;36m32\u001b[0m\u001b[1;33m)\u001b[0m\u001b[1;33m\u001b[0m\u001b[0m\n",
      "\u001b[1;31mIndexError\u001b[0m: list index out of range"
     ]
    }
   ],
   "source": [
    "h = [h_01,h_02,h_03,h_04,h_05,h_06,h_07,h_08]\n",
    "a = h[0]\n",
    "b = h[1]\n",
    "c = h[2]\n",
    "d = h[3]\n",
    "e = h[4]\n",
    "f = h[5]\n",
    "g = h[6]\n",
    "H = h[7]\n",
    "print(hex(a))\n",
    "for i in range (64):\n",
    "    if (i<=15):\n",
    "        w[i]=m[i]\n",
    "        t1 = (H + SIG_1(e)+Ch(e,f,g)+k[i]+w[i])%(2**32)\n",
    "        t2 = (SIG_0(a)+Maj(a,b,c))%(2**32)\n",
    "        H = g\n",
    "        g = f\n",
    "        f = e\n",
    "        e = (d+t1)%(2**32)\n",
    "        d = c\n",
    "        c = b\n",
    "        b = a\n",
    "        a = (t1+t2)%(2**32)\n",
    "    else:\n",
    "        w[i]=(sig_1(w[i-2])+w[i-7]+sig_0(w[i-15])+w[i-16])%(2**32)\n",
    "        t1 = (H + SIG_1(e)+Ch(e,f,g)+k[i]+w[i])%(2**32)\n",
    "        t2 = (SIG_0(a)+Maj(a,b,c))%(2**32)\n",
    "        H = g\n",
    "        g = f\n",
    "        f = e\n",
    "        e = (d+t1)%(2**32)\n",
    "        d = c\n",
    "        c = b\n",
    "        b = a\n",
    "        a = (t1+t2)%(2**32)    \n",
    "    print(hex(a),hex(b),i)\n",
    "h = [(a+h[0])%(2**32),(b + h[1])%(2**32), (c + h[2])%(2**32),(d + h[3])%(2**32), (e + h[4])%(2**32),(f + h[5])%(2**32),(g + h[6])%(2**32),(H + h[7])%(2**32)]"
   ]
  },
  {
   "cell_type": "code",
   "execution_count": 224,
   "metadata": {
    "collapsed": true
   },
   "outputs": [],
   "source": [
    "z=[]\n",
    "z[:len(h)] = [0]*len(h)\n",
    "for i in range(len(h)):\n",
    "    z[i]=hex(h[i])\n"
   ]
  },
  {
   "cell_type": "code",
   "execution_count": 225,
   "metadata": {},
   "outputs": [
    {
     "data": {
      "text/plain": [
       "['0x4777650a',\n",
       " '0xd8d72d80',\n",
       " '0x637fd8a',\n",
       " '0x8255ee4',\n",
       " '0x43bd7cca',\n",
       " '0xabed78f',\n",
       " '0x25a36a2b',\n",
       " '0xc7f474a4']"
      ]
     },
     "execution_count": 225,
     "metadata": {},
     "output_type": "execute_result"
    }
   ],
   "source": [
    "z"
   ]
  },
  {
   "cell_type": "code",
   "execution_count": null,
   "metadata": {
    "collapsed": true
   },
   "outputs": [],
   "source": []
  },
  {
   "cell_type": "code",
   "execution_count": null,
   "metadata": {
    "collapsed": true
   },
   "outputs": [],
   "source": []
  },
  {
   "cell_type": "code",
   "execution_count": null,
   "metadata": {
    "collapsed": true
   },
   "outputs": [],
   "source": []
  },
  {
   "cell_type": "code",
   "execution_count": null,
   "metadata": {
    "collapsed": true
   },
   "outputs": [],
   "source": []
  }
 ],
 "metadata": {
  "kernelspec": {
   "display_name": "Python 3",
   "language": "python",
   "name": "python3"
  },
  "language_info": {
   "codemirror_mode": {
    "name": "ipython",
    "version": 3
   },
   "file_extension": ".py",
   "mimetype": "text/x-python",
   "name": "python",
   "nbconvert_exporter": "python",
   "pygments_lexer": "ipython3",
   "version": "3.6.3"
  }
 },
 "nbformat": 4,
 "nbformat_minor": 2
}
